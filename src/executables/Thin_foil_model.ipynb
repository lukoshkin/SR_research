{
 "cells": [
  {
   "cell_type": "code",
   "execution_count": 1,
   "metadata": {
    "init_cell": true,
    "run_control": {
     "marked": true
    }
   },
   "outputs": [],
   "source": [
    "from functools import partial\n",
    "import scipy.integrate\n",
    "\n",
    "%matplotlib inline \n",
    "import matplotlib.pyplot as plt\n",
    "from matplotlib import cm\n",
    "from mpl_toolkits.mplot3d import Axes3D\n",
    "from tqdm.notebook import tqdm\n",
    "\n",
    "import sys\n",
    "sys.path.append('..')\n",
    "# << modify sys.path to import from the parent directory\n",
    "\n",
    "from dl.DGM import *\n",
    "from equations.pdes import *\n",
    "from equations.solvers import *\n",
    "from pulse.pulse import Pulse2D\n",
    "from pulse.utils import *\n",
    "from train.trainer import *\n",
    "from graphics.animation import *"
   ]
  },
  {
   "cell_type": "code",
   "execution_count": null,
   "metadata": {},
   "outputs": [],
   "source": [
    "B = np.array([35/384, 0, 500/1113, 125/192, -2187/6784, 11/84])"
   ]
  },
  {
   "cell_type": "code",
   "execution_count": null,
   "metadata": {},
   "outputs": [],
   "source": [
    "fc1 = nn.Linear(4, 4)\n",
    "fc2 = nn.Linear(4, 4)\n",
    "fc3 = nn.Linear(4, 4)\n",
    "fc4 = nn.Linear(4, 4)\n",
    "\n",
    "X = torch.rand(5, 4)\n",
    "fc = np.array([fc1, fc2, fc3, fc4])\n",
    "sigma = lambda x: x\n",
    "\n",
    "\n",
    "class GenerativeModel(nn.Module):\n",
    "    def __init__(self, images, mask, sigma):\n",
    "        super().__init__()\n",
    "        self.images = np.array([*images, None])\n",
    "        self.sigma = sigma\n",
    "\n",
    "        self.N, self.M = mask.shape\n",
    "        self.probs = torch.ones((self.N, self.M))\n",
    "        self.probs[~mask] = 0\n",
    "\n",
    "        self.probs /= self.probs.sum(1)[:, None]\n",
    "        self.probs = nn.Parameter(self.probs)\n",
    "\n",
    "    def refreeze(self):\n",
    "        self.ix = torch.multinomial(self.probs, 1).view(-1)\n",
    "        self.ll = self.probs[torch.arange(self.N), self.ix]\n",
    "        self.ll = self.ll.prod().log()\n",
    "        self.main = np.take(self.images, self.ix)\n",
    "\n",
    "    def forward(self, X):\n",
    "        Y = X.clone()\n",
    "        for i, l in zip(self.ix, self.main):\n",
    "            if i >= self.M-1: continue\n",
    "            # ? upsample(X) ?\n",
    "            Y = self.sigma(l(Y) + X)\n",
    "        return Y\n",
    "\n",
    "\n",
    "def gen_mask(N, M):\n",
    "    mask = torch.zeros(N, M)\n",
    "    ix_even = (torch.arange(N) % 2).bool()\n",
    "    mask[ix_even] = 1\n",
    "    mask[~ix_even, :M//2] = 1\n",
    "    mask = torch.cat((mask, torch.ones(N)[:, None]), 1)\n",
    "    return mask.bool()"
   ]
  },
  {
   "cell_type": "markdown",
   "metadata": {},
   "source": [
    "# Relativistic thin-foil electrodynamics\n",
    "\n",
    "Sergey Rykovanov"
   ]
  },
  {
   "cell_type": "markdown",
   "metadata": {
    "heading_collapsed": true
   },
   "source": [
    "## 1. Theory"
   ]
  },
  {
   "cell_type": "markdown",
   "metadata": {
    "hidden": true
   },
   "source": [
    "Primarily based on Bulanov et al, Phys. Plasmas 20, 123114 (2013)\n",
    "\n",
    "We assume that a foil is delta-like. Ions are at the moment considered immobile and located at $x=0$. Laser pulse propagates from the left side $t-x$, everything is normalized in the usual relativistic laser-plasma way  ($e=1$, $m_e=1$, $c=1$, $\\omega_L=1$). The model deals with the motion of the foil in the self-consistent way. Radiation from the foil itself is considered in the equations of motion. First, we start with the wave equation and its solutions in the case of the delta-foil.\n",
    "\n",
    "$$\\partial_{tt} \\vec a - \\partial_{xx} \\vec a = -\\alpha \\delta(x-x_e(t)) \\vec v\\qquad (*)$$\n",
    "\n",
    "where $x_e(t)$ is the position of 1D delta-electron, $\\vec v$ - its velocity, $\\alpha=n_e\\, d$ is the areal density of the foil with $n_e$ - assumed density and $d$ assumed thickness (for comparison with PIC simulations).\n",
    "\n",
    "Green function for the 1D wave equation is:\n",
    "\n",
    "$$G(t,t',x,x')=\\frac{1}{2}\\Theta\\left(t-t'-\\left|x-x'\\right| \\right)\\mathrm{,}$$\n",
    "where $\\Theta(x)$ is the Heaviside step function. Using this Green function it is easy to obtain radiation produced by the motion of the electron in 1D (Lienard-Wiechert potentials analogs):\n",
    "\n",
    "1) observer is to the left of the foil (for transverse electric field components):\n",
    "\n",
    "$$\\vec E(t,x)=\\alpha\\frac{\\vec{v}(t^*)}{1+v_x(t^*)}$$\n",
    "\n",
    "It is convenient to write in components:\n",
    "\n",
    "$$E_y(t,x)=-B_z(t,x)$$\n",
    "$$E_z(t,x)=B_y(t,x)$$\n",
    "\n",
    "2) observer is to the right of the foil\n",
    "\n",
    "$$\\vec E(t,x)=\\alpha\\frac{\\vec{v}(t^*)}{1-v_x(t^*)}$$\n",
    "\n",
    "$$E_y(t,x)=B_z(t,x)$$\n",
    "$$E_z(t,x)=-B_y(t,x)$$\n",
    "\n",
    "Remembering that there is a laser pulse coming from the left, and that force from self-radiation is equal to the average of fields on the both sides of the foil, the total field components can be written in the following way:\n",
    "\n",
    "$$\\epsilon\\equiv\\frac{\\alpha}{2}$$\n",
    "$$E_x=R(x)$$\n",
    "$$E_y=E_{y,L}+\\epsilon \\frac{u_y}{\\gamma}\\gamma_x^2$$\n",
    "$$E_z=E_{z,L}+\\epsilon \\frac{u_z}{\\gamma}\\gamma_x^2$$\n",
    "$$B_x=0$$\n",
    "$$B_y=-E_{z,L}-\\epsilon \\frac{u_x u_z}{\\gamma^2}\\gamma_x^2$$\n",
    "$$B_z=E_{y,L}+\\epsilon \\frac{u_x u_y}{\\gamma^2}\\gamma_x^2$$\n",
    "\n",
    "Here, $R(x)$ is the model for the restoring force of the ions, typically $R(x)=\\epsilon\\, \\mathrm{sign}(x)$, $u$ - 4-momentum components, $\\gamma_x=\\frac{1}{\\sqrt{1-v_x^2}}$. We can now construct the usual electromagnetic tensor and use relativistic mechanics to treat electron motion:\n",
    "\n",
    "$$\\frac{du^{\\mu}}{d\\tau}=-F^{\\mu\\nu}u_{\\nu}\\mathrm{,}$$\n",
    "where $\\tau$ is the proper time. We then get:\n",
    "\n",
    "$$\\frac{d\\gamma}{d\\tau}=-E_xu_x-E_{y,L}u_y-E_{z,L}u_z-\\epsilon\\frac{\\gamma_x^2}{\\gamma}\\left(u_y^2+u_z^2 \\right)$$\n",
    "$$\\frac{du_x}{d\\tau}=-\\gamma E_x-H_{z,L}u_y+H_{y,L}u_z-\\epsilon\\frac{u_x\\gamma_x^2}{\\gamma^2}\\left(u_y^2+u_z^2 \\right)$$\n",
    "$$\\frac{du_y}{d\\tau}=-E_{y,L}\\left(\\gamma-u_x\\right) - \\epsilon u_y$$\n",
    "$$\\frac{du_z}{d\\tau}=-E_{z,L}\\left(\\gamma-u_x\\right) - \\epsilon u_z$$\n",
    "\n",
    "\n",
    "New variables:\n",
    "\n",
    "$$\\xi\\equiv t-x$$\n",
    "$$h\\equiv\\gamma-u_x$$\n",
    "$$u_\\perp\\equiv u_y^2 + u_z^2$$\n",
    "\n",
    "Then\n",
    "$$\\frac{d\\xi}{d\\tau}=h$$\n",
    "\n",
    "$$u_x=\\gamma-h=\\frac{1+u_\\perp^2-h^2}{2h}$$\n",
    "\n",
    "After some manipulations we get:\n",
    "\n",
    "$$\\frac{dh}{d\\xi}=E_x-\\epsilon\\frac{u_\\perp^2}{1+u_\\perp^2}$$\n",
    "$$\\frac{dx}{d\\xi}=\\frac{1+u_\\perp^2-h^2}{2h^2}$$\n",
    "$$\\frac{du_y}{d\\xi}=-E_{y,L}-\\epsilon \\frac{u_y}{h}$$\n",
    "$$\\frac{du_z}{d\\xi}=-E_{z,L}-\\epsilon \\frac{u_z}{h}$$\n",
    "\n",
    "Noticing, that $\\frac{u_y}{h}=\\frac{dy}{d\\xi}$, we get the following set of master equations:\n",
    "\n",
    "$$h'=E_x-\\epsilon \\frac{u_\\perp^2}{1+u_\\perp^2}$$\n",
    "$$x'=\\frac{1+u_\\perp^2-h^2}{2h^2}$$\n",
    "$$y'=\\frac{u_y}{h}$$\n",
    "$$z'=\\frac{u_z}{h}$$\n",
    "$$u_y=a_{y,L}-\\epsilon y$$\n",
    "$$u_z=a_{z,L}-\\epsilon z$$\n",
    "\n",
    "Below we solve these equations using RK4 method (`scipy.integrate.ode`)"
   ]
  },
  {
   "cell_type": "markdown",
   "metadata": {
    "hidden": true
   },
   "source": [
    "Система дифференциальных ур-й\n",
    "$$h'=\\epsilon\\left(\\tanh\\left(\\frac{8x}{\\theta}\\right)-\\frac{u_\\perp^2}{1+u_\\perp^2}\\right)$$\n",
    "$$x'=\\frac{1+u_\\perp^2-h^2}{2h^2}$$\n",
    "$$y'=\\frac{u_y}{h}$$\n",
    "$$z'=\\frac{u_z}{h}$$\n",
    "\n",
    "Вспомогательные ур-я:\n",
    "$$u_y=a_{y,L}-\\epsilon y$$\n",
    "$$u_z=a_{z,L}-\\epsilon z$$\n",
    "$$u^2_\\perp = u_y^2 + u_z^2$$\n",
    "Здесь $a_{y,L}$ и $a_{z,L}$ заданные цуги"
   ]
  },
  {
   "cell_type": "markdown",
   "metadata": {
    "heading_collapsed": true
   },
   "source": [
    "## 2. Solving simple SODEs"
   ]
  },
  {
   "cell_type": "markdown",
   "metadata": {
    "deletable": false,
    "editable": false,
    "hidden": true,
    "run_control": {
     "frozen": true
    }
   },
   "source": [
    "$$\\begin{align}\n",
    "    \\begin{pmatrix}\n",
    "    \\dot x\\\\ \\dot y\\\\ \\dot z\n",
    "    \\end{pmatrix}\n",
    "    =\n",
    "    \\begin{pmatrix}\n",
    "    x+2y+2z\\\\ 2x+y+2z\\\\ 2x+2y+z\n",
    "    \\end{pmatrix}\n",
    "\\end{align}$$\n",
    "\n",
    "$$\n",
    "\\mathrm w(0) = \\begin{pmatrix}2\\\\-1\\\\-1\\end{pmatrix}\n",
    "$$"
   ]
  },
  {
   "cell_type": "code",
   "execution_count": null,
   "metadata": {
    "deletable": false,
    "editable": false,
    "hidden": true,
    "run_control": {
     "marked": false
    }
   },
   "outputs": [],
   "source": [
    "N = 100\n",
    "net = RNNLikeDGM(1,3, as_array=False)\n",
    "opt = optim.Adam(net.parameters(), 1e-3)\n",
    "\n",
    "calc_loss = lambda t,x,y,z: torch.norm(D(x,t)-(x+2*y+2*z))\n",
    "rbc = torch.tensor([2., -1., -1.])\n",
    "\n",
    "history = []\n",
    "for _ in trange(200):\n",
    "    opt.zero_grad()\n",
    "        \n",
    "    t = torch.rand(N)\n",
    "    t.requires_grad_(True)\n",
    "    x,y,z = net(t).unbind(1)\n",
    "    abc = net(t.new([0.]))\n",
    "    \n",
    "    loss = (1./N*(calc_loss(t,x,y,z)\n",
    "         + calc_loss(t,y,x,z)\n",
    "         + calc_loss(t,z,x,y))\n",
    "         + torch.norm(rbc - abc))\n",
    "    \n",
    "    history.append(loss.item())\n",
    "    loss.backward()\n",
    "    \n",
    "    opt.step()"
   ]
  },
  {
   "cell_type": "code",
   "execution_count": null,
   "metadata": {
    "deletable": false,
    "editable": false,
    "hidden": true,
    "scrolled": false
   },
   "outputs": [],
   "source": [
    "plt.figure()\n",
    "plt.plot(history);\n",
    "plt.yscale('log')"
   ]
  },
  {
   "cell_type": "code",
   "execution_count": null,
   "metadata": {
    "deletable": false,
    "editable": false,
    "hidden": true
   },
   "outputs": [],
   "source": [
    "plt.figure()\n",
    "t = torch.linspace(0, 1)\n",
    "\n",
    "x = net(t)[:,0].detach()\n",
    "rx = 2*torch.exp(-t)\n",
    "\n",
    "y = net(t)[:,1].detach()\n",
    "ry = -torch.exp(-t)\n",
    "\n",
    "plt.plot(t, x, label='x');\n",
    "plt.plot(t, rx, '--', label='real x');\n",
    "\n",
    "plt.plot(t, y, label='y');\n",
    "plt.plot(t, ry, '--', label='real y');\n",
    "plt.legend();"
   ]
  },
  {
   "cell_type": "code",
   "execution_count": null,
   "metadata": {
    "hidden": true
   },
   "outputs": [],
   "source": []
  },
  {
   "cell_type": "markdown",
   "metadata": {
    "hidden": true
   },
   "source": [
    "$$\\left\\{\\begin{align}\n",
    "&\\dot x = x-y^2\\\\\n",
    "&\\dot y = y\\\\\n",
    "&\\dot z = x+y^2+z\\\\\n",
    "\\end{align}\\right.$$\n",
    "\n",
    "$$\n",
    "\\mathrm w(0) = \\begin{pmatrix}0\\\\1\\\\0\\end{pmatrix}\n",
    "$$"
   ]
  },
  {
   "cell_type": "code",
   "execution_count": null,
   "metadata": {
    "deletable": false,
    "editable": false,
    "hidden": true
   },
   "outputs": [],
   "source": [
    "N = 100\n",
    "net = RNNLikeDGM(1,3, growing=True, as_array=False)\n",
    "opt = optim.Adam(net.parameters(), 1e-3)\n",
    "\n",
    "rbc = torch.tensor([0., 1., 0.])\n",
    "def calc_loss(t, x, y, z):\n",
    "    out = (torch.norm(D(x,t) - (x-y**2))\n",
    "           + torch.norm(D(y,t) - y)\n",
    "           + torch.norm(D(z,t) - (x+y**2+z)))\n",
    "    return out\n",
    "\n",
    "history = []\n",
    "for _ in trange(200):\n",
    "    opt.zero_grad()\n",
    "        \n",
    "    t = torch.rand(N)\n",
    "    t.requires_grad_(True)\n",
    "    x,y,z = net(t).unbind(1)\n",
    "    abc = net(t.new([0.]))\n",
    "    \n",
    "    loss = 1./N*calc_loss(t,x,y,z) + torch.norm(rbc - abc)\n",
    "    history.append(loss.item())\n",
    "    loss.backward()\n",
    "    \n",
    "    opt.step()"
   ]
  },
  {
   "cell_type": "code",
   "execution_count": null,
   "metadata": {
    "deletable": false,
    "editable": false,
    "hidden": true
   },
   "outputs": [],
   "source": [
    "plt.figure()\n",
    "plt.plot(history);\n",
    "plt.yscale('log')"
   ]
  },
  {
   "cell_type": "code",
   "execution_count": null,
   "metadata": {
    "deletable": false,
    "editable": false,
    "hidden": true
   },
   "outputs": [],
   "source": [
    "plt.figure()\n",
    "t = torch.linspace(0, 1)\n",
    "\n",
    "x = net(t)[:,0].detach()\n",
    "rx = torch.exp(t) - torch.exp(2*t)\n",
    "\n",
    "y = net(t)[:,1].detach()\n",
    "ry = torch.exp(t)\n",
    "\n",
    "z = net(t)[:,2].detach()\n",
    "rz = t*torch.exp(t)\n",
    "\n",
    "plt.plot(t, x, label='x');\n",
    "plt.plot(t, rx, '--', label='real x');\n",
    "\n",
    "plt.plot(t, y, label='y');\n",
    "plt.plot(t, ry, '--', label='real y');\n",
    "\n",
    "plt.plot(t, z, label='z');\n",
    "plt.plot(t, rz, '--', label='real z');\n",
    "plt.legend();"
   ]
  },
  {
   "cell_type": "code",
   "execution_count": null,
   "metadata": {
    "hidden": true
   },
   "outputs": [],
   "source": []
  },
  {
   "cell_type": "markdown",
   "metadata": {
    "hidden": true
   },
   "source": [
    "$$\\left\\{\\begin{align}\n",
    "&\\dot x = -2x-y+37\\sin t\\\\\n",
    "&\\dot y = -4x-5y\\\\\n",
    "\\end{align}\\right.$$\n",
    "\n",
    "$$\n",
    "\\mathrm w(0) = \\begin{pmatrix}-5\\\\4\\end{pmatrix}\n",
    "$$"
   ]
  },
  {
   "cell_type": "code",
   "execution_count": null,
   "metadata": {
    "deletable": false,
    "editable": false,
    "hidden": true
   },
   "outputs": [],
   "source": [
    "N = 200\n",
    "net = RNNLikeDGM(1,2, as_array=False)\n",
    "opt = optim.Adam(net.parameters(), 1e-3)\n",
    "\n",
    "rbc = torch.tensor([-5., 4.])\n",
    "def calc_loss(t, x, y, z):\n",
    "    out = (torch.norm(D(x,t) - (-2*x-y+37*torch.sin(t)))\n",
    "           + torch.norm(D(y,t) - (-4*x-5*y)))\n",
    "    return out\n",
    "\n",
    "history = []\n",
    "for _ in trange(6000):\n",
    "    opt.zero_grad()\n",
    "        \n",
    "    t = 10*torch.rand(N)\n",
    "    t.requires_grad_(True)\n",
    "    x,y = net(t).unbind(1)\n",
    "    abc = net(t.new([0.]))\n",
    "    \n",
    "    loss = 1./N*calc_loss(t,x,y,z) + torch.norm(rbc - abc)\n",
    "    history.append(loss.item())\n",
    "    loss.backward()\n",
    "    \n",
    "    opt.step()"
   ]
  },
  {
   "cell_type": "code",
   "execution_count": null,
   "metadata": {
    "deletable": false,
    "editable": false,
    "hidden": true
   },
   "outputs": [],
   "source": [
    "plt.figure()\n",
    "plt.plot(history);"
   ]
  },
  {
   "cell_type": "code",
   "execution_count": null,
   "metadata": {
    "deletable": false,
    "editable": false,
    "hidden": true
   },
   "outputs": [],
   "source": [
    "plt.figure()\n",
    "t = 10*torch.linspace(0, 1)\n",
    "\n",
    "x = net(t)[:,0].detach()\n",
    "rx = 10*torch.exp(-t) + 16*torch.sin(t) - 15*torch.cos(t)\n",
    "plt.plot(t, x, label='x');\n",
    "plt.plot(t, rx, '--', label='real x');\n",
    "\n",
    "y = net(t)[:,1].detach()\n",
    "ry = -10*torch.exp(-t) - 10*torch.sin(t) + 14*torch.cos(t)\n",
    "plt.plot(t, y, label='y');\n",
    "plt.plot(t, ry, '--', label='real y');\n",
    "\n",
    "plt.legend();"
   ]
  },
  {
   "cell_type": "markdown",
   "metadata": {
    "hidden": true
   },
   "source": [
    "---"
   ]
  },
  {
   "cell_type": "markdown",
   "metadata": {},
   "source": [
    "## 3. Solving with a Neural Network"
   ]
  },
  {
   "cell_type": "code",
   "execution_count": null,
   "metadata": {},
   "outputs": [],
   "source": [
    "from torch import optim\n",
    "torch.manual_seed(123)\n",
    "p_t = Pulse2D(pulse_torch, ((a_0y, a_0z), (xi_0y, xi_0z), tau))                    \n",
    "w = torch.tensor([1./96, 1.], device=device)\n",
    "\n",
    "xi_lims = (0, 20*math.pi)\n",
    "pde = ThinFoilSODE(                                                                \n",
    "        rbc, p_t, theta, xi_lims=xi_lims, device=device)            \n",
    "net = RNNLikeDGM(1,4, as_array=False).to(device)                                   \n",
    "opt = optim.SGD(net.parameters(), 8e-3, weight_decay=5e-7)                         \n",
    "#sch = optim.lr_scheduler.CosineAnnealingWarmRestarts(opt, 500, eta_min=5e-7)       \n",
    "sch = optim.lr_scheduler.StepLR(opt, 1, gamma=.999)       \n",
    "                                                                                   \n",
    "trainer = SepLossTrainer(net, pde, opt, sch)"
   ]
  },
  {
   "cell_type": "code",
   "execution_count": null,
   "metadata": {},
   "outputs": [],
   "source": [
    "xi = pde.sampleBatch(20)\n",
    "R_do, R_bc = pde.computeResiduals(xi, net)"
   ]
  },
  {
   "cell_type": "code",
   "execution_count": null,
   "metadata": {},
   "outputs": [],
   "source": [
    "trainer.exponentialWarmUp(w, 256, 1000, (1e-6, 1), range_test=True, explosion_ratio=2.)"
   ]
  },
  {
   "cell_type": "code",
   "execution_count": 2,
   "metadata": {
    "init_cell": true
   },
   "outputs": [],
   "source": [
    "# --> Problem Setting\n",
    "N = 500\n",
    "\n",
    "a_0y = 20.\n",
    "a_0z = 20.\n",
    "xi_0y = 0.\n",
    "xi_0z = .5*math.pi\n",
    "\n",
    "tau = 10*math.pi\n",
    "theta = .02*math.pi\n",
    "eps = 200*theta\n",
    "\n",
    "device = 'cuda' if torch.cuda.is_available() else 'cpu'\n",
    "\n",
    "rbc = torch.tensor([0., 0., 0., 1.])\n",
    "# <--"
   ]
  },
  {
   "cell_type": "code",
   "execution_count": null,
   "metadata": {},
   "outputs": [],
   "source": [
    "!scp -r zhores:SR_research/savings ../.."
   ]
  },
  {
   "cell_type": "code",
   "execution_count": null,
   "metadata": {},
   "outputs": [],
   "source": [
    "hfn = '../../runs/history1.npz'\n",
    "wfn = '../../runs/weights1.pt'\n",
    "content = np.load(hfn)\n",
    "history, histories = content.values()\n",
    "\n",
    "net = RNNLikeDGM(1, 4, as_array=False)\n",
    "net.load_state_dict(torch.load(wfn, map_location='cpu'))"
   ]
  },
  {
   "cell_type": "code",
   "execution_count": null,
   "metadata": {},
   "outputs": [],
   "source": [
    "print(history[-1])\n",
    "plt.plot(histories[0][100:]);"
   ]
  },
  {
   "cell_type": "code",
   "execution_count": null,
   "metadata": {},
   "outputs": [],
   "source": [
    "xi = torch.linspace(0, 20*math.pi, 10000)\n",
    "xyzh = net(xi)"
   ]
  },
  {
   "cell_type": "code",
   "execution_count": null,
   "metadata": {},
   "outputs": [],
   "source": [
    "plt.plot(xi, xyzh[:, 1].detach());"
   ]
  },
  {
   "cell_type": "markdown",
   "metadata": {},
   "source": [
    "$a_{y,L}$ and $a_{y,L}$ are the solution projections of the homogeneous form of the equation $(*)$, that can be set as follows (like Sergey proposed it last time)"
   ]
  },
  {
   "cell_type": "markdown",
   "metadata": {},
   "source": [
    "$$\n",
    "    a_{y,L} = a_{0y}\\exp\\left(-\\frac{\\xi^2}{2\\tau}\\right)\\sin(\\xi + \\xi_{0y})\\\\\n",
    "    a_{z,L} = a_{0z}\\exp\\left(-\\frac{\\xi^2}{2\\tau}\\right)\\sin(\\xi + \\xi_{0z})\n",
    "$$"
   ]
  },
  {
   "cell_type": "markdown",
   "metadata": {},
   "source": [
    "For numerical solution obtained with RK4, he uses $a$ of the following form:\n",
    "\n",
    "$$\n",
    "    a_{0y}\\sin^2\\frac{\\pi\\xi}{\\tau}\\;\\sin(\\xi-\\frac{\\tau}{2}+\\xi_{0y})\\\\\n",
    "    a_{0z}\\sin^2\\frac{\\pi\\xi}{\\tau}\\;\\sin(\\xi-\\frac{\\tau}{2}+\\xi_{0z})\n",
    "$$\n",
    "\n",
    "for $\\xi$ values: $0 \\le \\xi < \\tau$ (for others it is 0)"
   ]
  },
  {
   "cell_type": "markdown",
   "metadata": {},
   "source": [
    "$$\n",
    "    \\partial_\\xi a = 2\\frac{a_0\\pi}{\\tau}\\sin\\frac{\\pi\\xi}{\\tau}\\cos\\frac{\\pi\\xi}{\\tau}\n",
    "    \\sin(\\xi - \\frac{\\tau}{2} + \\xi_0) + a_0\\sin^2\\frac{\\pi\\xi}{\\tau}\\cos(\\xi-\\frac{\\tau}{2} + \\xi_0)\\\\\n",
    "    \\simeq a_0\\sin^2\\frac{\\pi\\xi}{\\tau}\\cos(\\xi-\\frac{\\tau}{2} + \\xi_0)\n",
    "$$\n",
    "\n",
    "$$\n",
    "    E^2 \\simeq a_{0y}^2\\sin^4\\frac{\\pi\\xi}{\\tau}\\cos^2(\\xi-\\frac{\\tau}{2} + \\xi_0y)\n",
    "    + a_{0z}^2\\sin^4\\frac{\\pi\\xi}{\\tau}\\cos^2(\\xi-\\frac{\\tau}{2} + \\xi_0z)\n",
    "$$"
   ]
  },
  {
   "cell_type": "code",
   "execution_count": null,
   "metadata": {},
   "outputs": [],
   "source": [
    "y = a_0y*np.sin(np.pi*x/tau)**2*np.sin(x - tau/2 + xi_0y)/dx\n",
    "dy1 = a_0y*np.sin(np.pi*x/tau)**2*np.cos(x - tau/2 + xi_0y)\n",
    "dy2 = (a_0y*np.sin(np.pi*x/tau)**2*np.cos(x - tau/2 + xi_0y)\n",
    "       + 2*a_0y*np.pi/tau*np.sin(np.pi*x/tau)*np.cos(np.pi*x/tau)*np.sin(x - tau/2 + xi_0y))"
   ]
  },
  {
   "cell_type": "code",
   "execution_count": null,
   "metadata": {},
   "outputs": [],
   "source": [
    "da_y = a_0y*np.sin(np.pi*x/tau)**2*np.cos(x - tau/2 + xi_0y)\n",
    "da_z = a_0z*np.sin(np.pi*x/tau)**2*np.cos(x - tau/2 + xi_0z)"
   ]
  },
  {
   "cell_type": "code",
   "execution_count": null,
   "metadata": {},
   "outputs": [],
   "source": [
    "plt.plot(da_y**2 + da_z**2)"
   ]
  },
  {
   "cell_type": "code",
   "execution_count": null,
   "metadata": {},
   "outputs": [],
   "source": [
    "plt.plot(np.gradient(y))\n",
    "plt.plot(dy1)\n",
    "plt.plot(dy2);"
   ]
  },
  {
   "cell_type": "markdown",
   "metadata": {},
   "source": [
    "## 4. Numerical Solution"
   ]
  },
  {
   "cell_type": "code",
   "execution_count": 3,
   "metadata": {
    "init_cell": true
   },
   "outputs": [],
   "source": [
    "### ---> Problem Setting\n",
    "dxi = 1e-5\n",
    "xi_lims = (0., 20*np.pi)\n",
    "n_steps = np.ceil(xi_lims[1]/dxi)+1\n",
    "xi = np.linspace(*xi_lims, int(n_steps))\n",
    "\n",
    "a_0y = 20.\n",
    "a_0z = 20.\n",
    "xi_0y = 0.\n",
    "xi_0z = .5*np.pi\n",
    "tau = 10*np.pi  # pulse duration\n",
    "\n",
    "theta = .02*np.pi  # thickness\n",
    "eps = 200*theta\n",
    "\n",
    "rbc = torch.tensor([0., 0., 0., 1.])\n",
    "### <--- Problem Setting"
   ]
  },
  {
   "cell_type": "code",
   "execution_count": 4,
   "metadata": {
    "init_cell": true
   },
   "outputs": [],
   "source": [
    "p1 = Pulse2D(pulse_scalar, ([a_0y, a_0z], [xi_0y, xi_0z], tau))\n",
    "p2 = Pulse2D(pulse_scalar, ([a_0y, a_0z], [xi_0y-np.pi, xi_0z-np.pi], tau, 3))"
   ]
  },
  {
   "cell_type": "code",
   "execution_count": null,
   "metadata": {},
   "outputs": [],
   "source": [
    "p1 = Pulse2D(pulse_np, ([a_0y, a_0z], [xi_0y, xi_0z], tau))\n",
    "p2 = Pulse2D(pulse_np, ([a_0y, a_0z], [xi_0y-np.pi, xi_0z-np.pi], tau, 3))"
   ]
  },
  {
   "cell_type": "code",
   "execution_count": null,
   "metadata": {},
   "outputs": [],
   "source": [
    "plt.figure()\n",
    "y1 = pulse_np(torch.linspace(0, 20*np.pi, 1000), a_0y, xi_0y, tau, 1)\n",
    "plt.plot(y1)\n",
    "y2 = pulse_np(torch.linspace(0, 20*np.pi, 1000), a_0y, xi_0y, tau, 2)\n",
    "plt.plot(y2);"
   ]
  },
  {
   "cell_type": "code",
   "execution_count": null,
   "metadata": {},
   "outputs": [],
   "source": [
    "plt.figure()\n",
    "y1 = pulse(torch.linspace(0, 20*np.pi, 1000), a_0y, xi_0y, tau, 1)\n",
    "y2 = pulse(torch.linspace(0, 20*np.pi, 1000), a_0y, xi_0y-np.pi, tau, 3)\n",
    "plt.plot(y1+y2);\n",
    "\n",
    "# 4 par-s: ampl1, ampl2, dphi, ellipt\n",
    "# 2 cases:\n",
    "# - circular\n",
    "# - linear\n",
    "# E = const (conservation)"
   ]
  },
  {
   "cell_type": "code",
   "execution_count": null,
   "metadata": {},
   "outputs": [],
   "source": [
    "xi = np.linspace(0, 20*math.pi, 1000)"
   ]
  },
  {
   "cell_type": "code",
   "execution_count": 5,
   "metadata": {
    "init_cell": true
   },
   "outputs": [],
   "source": [
    "solver = ThinFoilSolver(rbc, p1, eps, theta, pulse2=None, scheme='new', xi_lims=xi_lims)\n",
    "x,y,z,h = solver(xi)"
   ]
  },
  {
   "cell_type": "code",
   "execution_count": null,
   "metadata": {},
   "outputs": [],
   "source": [
    "hfn = '../../runs/history1.npz'\n",
    "wfn = '../../runs/weights1.pt'\n",
    "content = np.load(hfn)\n",
    "history, histories = content.values()\n",
    "\n",
    "net = RNNLikeDGM(1, 4, as_array=False)\n",
    "net.load_state_dict(torch.load(wfn, map_location='cpu'))\n",
    "x,y,z,h = net(torch.Tensor(xi)).T.detach().numpy()"
   ]
  },
  {
   "cell_type": "code",
   "execution_count": null,
   "metadata": {},
   "outputs": [],
   "source": [
    "dx_dxi = np.gradient(x) / dxi\n",
    "print(r'max derivative of x:', f'{max(dx_dxi):.2f}')\n",
    "\n",
    "fig, ax1 = plt.subplots(figsize=(8, 4))\n",
    "ax1.plot(xi, x, c='blue')\n",
    "ax1.set_ylabel(r'$x$', c='blue', size=16)\n",
    "ax1.tick_params(axis='y', labelcolor='blue')\n",
    "ax1.set_xlabel(r'$\\xi$')\n",
    "\n",
    "ax2 = ax1.twinx()\n",
    "ax2.plot(xi, dx_dxi, c='orange', alpha=.4);\n",
    "ax2.set_ylabel(r'$\\frac{dx}{d\\xi}$', c='orange', size=16)\n",
    "ax2.tick_params(axis='y', labelcolor='orange')\n",
    "\n",
    "plt.tight_layout();"
   ]
  },
  {
   "cell_type": "code",
   "execution_count": null,
   "metadata": {},
   "outputs": [],
   "source": [
    "mask = (xi > 36.31) & (xi < 36.32)\n",
    "plt.plot(xi[mask], x[mask]);"
   ]
  },
  {
   "cell_type": "code",
   "execution_count": 6,
   "metadata": {
    "init_cell": true
   },
   "outputs": [],
   "source": [
    "u_x = np.gradient(x, xi) * h\n",
    "u_y = np.gradient(y, xi) * h\n",
    "u_z = np.gradient(z, xi) * h\n",
    "\n",
    "gamma = np.sqrt(1 + u_x**2 + u_y**2 + u_z**2)\n",
    "v_x = u_x / gamma\n",
    "gamma_x = 1. / np.sqrt(1 - v_x**2)"
   ]
  },
  {
   "cell_type": "code",
   "execution_count": null,
   "metadata": {},
   "outputs": [],
   "source": [
    "sw = 1.\n",
    "fig, ax1 = plt.subplots(figsize=(8,4))\n",
    "xaxis = xi/2/np.pi + sw*x/2/np.pi\n",
    "ax1.plot(\n",
    "    xaxis, x/2/np.pi, 'k',\n",
    "    lw=2, label=r'$\\frac{x^\\prime}{\\lambda_L}$')\n",
    "ax1.set_xlabel(r'$t/T_L$', size=16)\n",
    "ax1.set_ylabel(r'$\\frac{x^\\prime}{\\lambda_L}$', size=26)\n",
    "ax1.set_xlim(0,10)\n",
    "\n",
    "ax2 = ax1.twinx()\n",
    "ax2.plot(xaxis, gamma_x, 'g', label=r'$\\gamma_x$')\n",
    "ax2.plot(xaxis, u_y, 'b', label=r'$u_y$')\n",
    "ax2.plot(xaxis, u_z, 'r', label=r'$u_z$')\n",
    "ax2.set_ylabel(r'$u_y,\\;u_z,\\;\\gamma_x$', size=16)\n",
    "\n",
    "lines = ax1.lines + ax2.lines\n",
    "lbls = map(lambda x: x.get_label(), lines)\n",
    "plt.legend(lines, lbls, loc=0)\n",
    "plt.tight_layout();"
   ]
  },
  {
   "cell_type": "markdown",
   "metadata": {
    "heading_collapsed": true
   },
   "source": [
    "## Cells copied from the updated version"
   ]
  },
  {
   "cell_type": "code",
   "execution_count": null,
   "metadata": {
    "hidden": true
   },
   "outputs": [],
   "source": [
    "t = xi + x\n",
    "t_detector = t + x\n",
    "t_uni = np.linspace(xi[0]+x[0], xi[-1]+x[-1], len(xi))\n",
    "\n",
    "\n",
    "E_y_detector = eps * u_y / gamma / (1+v_x)\n",
    "E_z_detector = eps * u_z / gamma / (1+v_x)\n",
    "\n",
    "E_y_interp = np.interp(t, t_detector, E_y_detector)\n",
    "E_z_interp = np.interp(t, t_detector, E_z_detector)\n",
    "\n",
    "plt.plot(t_detector/2/np.pi, E_y_detector)\n",
    "plt.title(\"Foil's electic field\")\n",
    "plt.ylabel('E')\n",
    "plt.xlabel('t');"
   ]
  },
  {
   "cell_type": "code",
   "execution_count": null,
   "metadata": {
    "hidden": true
   },
   "outputs": [],
   "source": [
    "plt.plot(t)\n",
    "plt.plot(t_detector)"
   ]
  },
  {
   "cell_type": "code",
   "execution_count": null,
   "metadata": {
    "hidden": true
   },
   "outputs": [],
   "source": [
    "spectrum_y = np.fft.fft(E_y_interp)\n",
    "spectrum_z = np.fft.fft(E_z_interp)\n",
    "\n",
    "w = np.fft.fftfreq(len(E_y_interp), d=t[1]-t[0])\n",
    "\n",
    "plt.semilogy(w*2*np.pi, abs(spectrum_y)/abs(spectrum_y).max())\n",
    "plt.semilogy(w*2*np.pi, abs(spectrum_z)/abs(spectrum_z).max())\n",
    "\n",
    "plt.title(\"Spectrum of the foil's electric field\")\n",
    "plt.ylim(1e-2,1)\n",
    "plt.xlim(0,10);"
   ]
  },
  {
   "cell_type": "code",
   "execution_count": null,
   "metadata": {
    "hidden": true
   },
   "outputs": [],
   "source": [
    "filter_center = 10.0\n",
    "filter_width = 3.\n",
    "\n",
    "bandgap_filter_minus = np.exp(\n",
    "    -(w*2*np.pi - filter_center)**16 / filter_width**16)\n",
    "bandgap_filter_plus = np.exp(\n",
    "    -(w*2*np.pi + filter_center)**16 / filter_width**16)\n",
    "\n",
    "bandgap_filter = bandgap_filter_minus + bandgap_filter_plus\n",
    "plt.semilogy(w*2*np.pi, abs(spectrum_y)/abs(spectrum_y).max())\n",
    "plt.semilogy(\n",
    "    w*2*np.pi,\n",
    "    abs(bandgap_filter*spectrum_y) / abs(spectrum_y).max())\n",
    "plt.semilogy(w*2*np.pi, bandgap_filter)\n",
    "\n",
    "sp_y_filt = bandgap_filter*spectrum_y\n",
    "sp_z_filt = bandgap_filter*spectrum_z\n",
    "plt.xlim(-30,30)\n",
    "plt.ylim(1e-3,1);"
   ]
  },
  {
   "cell_type": "code",
   "execution_count": null,
   "metadata": {
    "hidden": true
   },
   "outputs": [],
   "source": [
    "plt.plot(w*2*np.pi, abs(sp_y_filt))\n",
    "plt.plot(w*2*np.pi, abs(sp_z_filt), alpha=.7)\n",
    "plt.xlim(0,30);"
   ]
  },
  {
   "cell_type": "code",
   "execution_count": null,
   "metadata": {
    "hidden": true
   },
   "outputs": [],
   "source": [
    "y_filt = np.real(np.fft.ifft(sp_y_filt))\n",
    "z_filt = np.real(np.fft.ifft(sp_z_filt))\n",
    "\n",
    "plt.plot(y_filt, z_filt)\n",
    "plt.xlim(-15,15);\n",
    "plt.ylim(-15,15);"
   ]
  },
  {
   "cell_type": "code",
   "execution_count": null,
   "metadata": {
    "hidden": true
   },
   "outputs": [],
   "source": [
    "plt.plot(t/2/np.pi, abs(y_filt)**2 + abs(z_filt)**2);\n",
    "plt.xlim(5.0,5.3)"
   ]
  },
  {
   "cell_type": "markdown",
   "metadata": {},
   "source": [
    "## Rectified cells "
   ]
  },
  {
   "cell_type": "code",
   "execution_count": null,
   "metadata": {},
   "outputs": [],
   "source": [
    "from grid_search import spectrum_integral"
   ]
  },
  {
   "cell_type": "code",
   "execution_count": null,
   "metadata": {},
   "outputs": [],
   "source": [
    "t = xi + 2*x\n",
    "t_uni = np.linspace(xi[0]+x[0], xi[-1]+x[-1], len(xi))\n",
    "\n",
    "E_y = eps * u_y / gamma / (1+v_x)\n",
    "E_z = eps * u_z / gamma / (1+v_x)\n",
    "\n",
    "E_yi = np.interp(t, t_uni, E_y)\n",
    "E_zi = np.interp(t, t_uni, E_z)\n",
    "\n",
    "plt.plot(t_uni/2/np.pi, E_yi)\n",
    "plt.title(\"Foil's electric field\")\n",
    "plt.ylabel('E')\n",
    "plt.xlabel('t');"
   ]
  },
  {
   "cell_type": "code",
   "execution_count": null,
   "metadata": {},
   "outputs": [],
   "source": [
    "spec_y = np.fft.fft(E_yi)\n",
    "spec_z = np.fft.fft(E_zi)\n",
    "\n",
    "dt = t_uni[1] - t_uni[0]\n",
    "w = np.fft.fftfreq(len(t_uni), d=dt)\n",
    "\n",
    "plt.semilogy(w*2*np.pi, abs(spec_y)/abs(spec_y).max())\n",
    "plt.semilogy(w*2*np.pi, abs(spec_z)/abs(spec_z).max())\n",
    "\n",
    "plt.title(\"Spectrum of the foil's electric field\")\n",
    "plt.ylim(1e-2,1)\n",
    "plt.xlim(0,10);"
   ]
  },
  {
   "cell_type": "code",
   "execution_count": null,
   "metadata": {},
   "outputs": [],
   "source": [
    "fc = 10. # filter's center\n",
    "bw = 3.  # filter's width\n",
    "\n",
    "Fl = np.exp(-(w*2*np.pi - fc)**16 / bw**16)\n",
    "Fr = np.exp(-(w*2*np.pi + fc)**16 / bw**16)\n",
    "F = Fl + Fr\n",
    "\n",
    "spf_y = F*spec_y\n",
    "spf_z = F*spec_z\n",
    "\n",
    "plt.semilogy(w.real*2*np.pi, abs(spec_y)/abs(spec_y).max())\n",
    "plt.semilogy(w.real*2*np.pi, abs(F*spec_y) / abs(spec_y).max())\n",
    "plt.semilogy(w.real*2*np.pi, F)\n",
    "\n",
    "plt.xlim(-30,30)\n",
    "plt.ylim(1e-3,1);"
   ]
  },
  {
   "cell_type": "code",
   "execution_count": null,
   "metadata": {},
   "outputs": [],
   "source": [
    "i_upper = math.ceil(dt*len(xi)*(fc+bw)/(2*np.pi))\n",
    "i_lower = math.floor(dt*len(xi)*(fc-bw)/(2*np.pi))\n",
    "\n",
    "intf_spy = abs(spf_y[i_lower:i_upper]).sum()\n",
    "intf_spz = abs(spf_z[i_lower:i_upper]).sum()\n",
    "\n",
    "Q = (intf_spy**2 + intf_spz**2)**.5"
   ]
  },
  {
   "cell_type": "code",
   "execution_count": null,
   "metadata": {},
   "outputs": [],
   "source": [
    "plt.plot(w*2*np.pi, 3.5*abs(spf_y))\n",
    "plt.plot(w*2*np.pi, 3.5*abs(spf_z), alpha=.7)\n",
    "plt.xlim(0,30);\n",
    "#plt.savefig('../../figures/solspec.png')"
   ]
  },
  {
   "cell_type": "code",
   "execution_count": null,
   "metadata": {},
   "outputs": [],
   "source": [
    "y_f = np.real(np.fft.ifft(spf_y))\n",
    "z_f = np.real(np.fft.ifft(spf_z))\n",
    "\n",
    "plt.plot(y_f, z_f);"
   ]
  }
 ],
 "metadata": {
  "celltoolbar": "Initialization Cell",
  "kernelspec": {
   "display_name": "Python 3",
   "language": "python",
   "name": "python3"
  },
  "language_info": {
   "codemirror_mode": {
    "name": "ipython",
    "version": 3
   },
   "file_extension": ".py",
   "mimetype": "text/x-python",
   "name": "python",
   "nbconvert_exporter": "python",
   "pygments_lexer": "ipython3",
   "version": "3.7.7"
  },
  "notify_time": "5",
  "toc": {
   "base_numbering": "1",
   "nav_menu": {
    "height": "95.9943px",
    "width": "280px"
   },
   "number_sections": false,
   "sideBar": true,
   "skip_h1_title": false,
   "title_cell": "Table of Contents",
   "title_sidebar": "Contents",
   "toc_cell": false,
   "toc_position": {
    "height": "calc(100% - 180px)",
    "left": "10px",
    "top": "150px",
    "width": "165px"
   },
   "toc_section_display": true,
   "toc_window_display": false
  },
  "widgets": {
   "state": {},
   "version": "1.1.2"
  }
 },
 "nbformat": 4,
 "nbformat_minor": 1
}
